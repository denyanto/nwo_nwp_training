{
  "nbformat": 4,
  "nbformat_minor": 0,
  "metadata": {
    "colab": {
      "provenance": [],
      "collapsed_sections": []
    },
    "kernelspec": {
      "name": "python3",
      "display_name": "Python 3"
    },
    "language_info": {
      "name": "python"
    }
  },
  "cells": [
    {
      "cell_type": "code",
      "source": [
        "from google.colab import drive\n",
        "drive.mount('/content/drive')"
      ],
      "metadata": {
        "id": "bopIDAud2oEJ"
      },
      "execution_count": null,
      "outputs": []
    },
    {
      "cell_type": "code",
      "source": [
        "!pip install wrf-python"
      ],
      "metadata": {
        "id": "hseFfuRN39dr"
      },
      "execution_count": null,
      "outputs": []
    },
    {
      "cell_type": "code",
      "source": [
        "###################################\n",
        "# Created by danang eko nuryanto\n",
        "# email: danang.eko@bmkg.go.id\n",
        "###################################\n",
        "import netCDF4 as nc\n",
        "import numpy as np\n",
        "import glob\n",
        "from wrf import getvar, ALL_TIMES, latlon_coords, to_np\n",
        "import matplotlib.pyplot as plt\n",
        "\n",
        "lo=106.6\n",
        "la=-6.5\n",
        "ens=['7021','7022','7027','7161','7162','7167']\n",
        "rh_point=[]\n",
        "for j in range(len(ens)):\n",
        "  fl = sorted(glob.glob('/content/drive/MyDrive/Colab Notebooks/MWO_NWP2022/wmo_nwp_testdata/'+ens[j]+'/*'))\n",
        "  wrflist=[]\n",
        "  for i in range(len(fl)):\n",
        "      wrflist.append(nc.Dataset(fl[i]))\n",
        "  # Extract the 'rh' variable for all times\n",
        "  rh = getvar(wrflist, \"rh\", timeidx=ALL_TIMES, method=\"cat\")\n",
        "  time = getvar(wrflist, \"times\", timeidx=ALL_TIMES, method=\"cat\")\n",
        "  lats, lons = latlon_coords(rh)\n",
        "  lon=lons[0,:]\n",
        "  lat=lats[:,0]\n",
        "  ix=np.where(np.abs(lon-lo) == np.nanmin(np.abs(lon-lo)))[0][0]\n",
        "  iy=np.where(np.abs(lat-la) == np.nanmin(np.abs(lat-la)))[0][0]\n",
        "  rh_point.append(rh[:,0,iy,ix][:])\n",
        "rh_point=np.array(rh_point).T#;print(str(to_np(time)[0])[:13])\n",
        "ti=[str(to_np(i))[:13] for i in time];print(ti)\n",
        "\n",
        "plt.figure()\n",
        "plt.plot(rh_point)\n",
        "plt.xticks(range(9), ti, rotation=20)\n",
        "#print(fh)"
      ],
      "metadata": {
        "id": "eEi8VU2p5XYh"
      },
      "execution_count": null,
      "outputs": []
    },
    {
      "cell_type": "code",
      "source": [
        "ave_rh=np.mean(rh_point,axis=1)\n",
        "std_rh=np.std(rh_point,axis=1)\n",
        "x=np.arange(0,9)\n",
        "plt.figure()\n",
        "plt.plot(x,ave_rh,color='k')\n",
        "plt.gca().fill_between(x,ave_rh,ave_rh-std_rh,color='r')\n",
        "plt.gca().fill_between(x,ave_rh,ave_rh+std_rh,color='g')\n",
        "plt.xticks(range(9), ti, rotation=20)"
      ],
      "metadata": {
        "id": "7gBNXE0xM8yV"
      },
      "execution_count": null,
      "outputs": []
    },
    {
      "cell_type": "code",
      "source": [
        "plt.figure()\n",
        "plt.boxplot(rh_point.T)\n",
        "plt.plot(x+1,ave_rh,color='r')\n",
        "plt.gca().set_xticks(range(0, len(x)+1, 5))\n",
        "plt.gca().set_xticklabels(range(0, len(x)+1, 5))\n",
        "plt.xticks(range(9), ti, rotation=20)"
      ],
      "metadata": {
        "id": "HyUnDUoKNSZs"
      },
      "execution_count": null,
      "outputs": []
    },
    {
      "cell_type": "code",
      "source": [
        "!pip install cartopy"
      ],
      "metadata": {
        "id": "My83K-0RPkTu"
      },
      "execution_count": null,
      "outputs": []
    },
    {
      "cell_type": "code",
      "source": [
        "###################################\n",
        "# Created by danang eko nuryanto\n",
        "# email: danang.eko@bmkg.go.id\n",
        "###################################\n",
        "import netCDF4 as nc\n",
        "import numpy as np\n",
        "import glob\n",
        "from wrf import getvar, ALL_TIMES, latlon_coords, to_np\n",
        "import cartopy.crs as crs\n",
        "import cartopy.mpl.ticker as cticker\n",
        "import matplotlib.pyplot as plt\n",
        "\n",
        "ens=['7021','7022','7027','7161','7162','7167']\n",
        "rh_all=[]\n",
        "for j in range(len(ens)):\n",
        "  fl = sorted(glob.glob('/content/drive/MyDrive/Colab Notebooks/MWO_NWP2022/wmo_nwp_testdata/'+ens[j]+'/*'))\n",
        "  wrflist=[]\n",
        "  for i in range(len(fl)):\n",
        "      wrflist.append(nc.Dataset(fl[i]))\n",
        "  # Extract the 'rh' variable for all times\n",
        "  rh = getvar(wrflist, \"rh\", timeidx=ALL_TIMES, method=\"cat\")\n",
        "  time = getvar(wrflist, \"times\", timeidx=ALL_TIMES, method=\"cat\")\n",
        "  lats, lons = latlon_coords(rh)\n",
        "  lon=lons[0,:]\n",
        "  lat=lats[:,0]\n",
        "  rh_all.append(rh[:,0,...])\n",
        "rh_all=np.array(rh_all)\n",
        "ti=str(to_np(time)[-1])[:13]\n",
        "rh=rh_all[:,-1,...]\n",
        "print(rh.shape)\n",
        "\n",
        "plt.figure()\n",
        "fig, axes = plt.subplots(2, 3, subplot_kw={'projection': crs.PlateCarree()}, figsize=(9,6))\n",
        "ax=axes.flat\n",
        "contour_levels = [50, 55, 60, 65, 70, 75, 80, 85, 90, 95]\n",
        "for i in range(len(ens)):\n",
        "  cs=ax[i].contourf(lon, lat, to_np(rh[i,...]), levels=contour_levels,cmap='YlGnBu', transform=crs.PlateCarree(),extend='both')\n",
        "  ax[i].set_title(ens[i])\n",
        "  ax[i].coastlines()\n",
        "#  ax[i].set_extent([lon[0],lon[-1],lat[0],lat[-1]], crs=crs.PlateCarree())\n",
        "\n",
        "  # Longitude labels\n",
        "  ax[i].set_xticks(np.arange(105,lon[-1],5), crs=crs.PlateCarree())\n",
        "  lon_formatter = cticker.LongitudeFormatter()\n",
        "  ax[i].xaxis.set_major_formatter(lon_formatter)\n",
        "\n",
        "  # Latitude labels\n",
        "  ax[i].set_yticks(np.arange(-10,lat[-1],5), crs=crs.PlateCarree())\n",
        "  lat_formatter = cticker.LatitudeFormatter()\n",
        "  ax[i].yaxis.set_major_formatter(lat_formatter)\n",
        "# Add a colorbar axis at the bottom of the graph\n",
        "#cbar_ax = fig.add_axes([0.2, 0.2, 0.6, 0.02])\n",
        "cbar_ax = fig.add_axes([0.95, 0.2, 0.02, 0.6])\n",
        "\n",
        "# Draw the colorbar\n",
        "#cbar=fig.colorbar(cs, cax=cbar_ax,orientation='horizontal')\n",
        "cbar=fig.colorbar(cs, cax=cbar_ax,orientation='vertical')"
      ],
      "metadata": {
        "id": "Dz-9LfkPN0Hi"
      },
      "execution_count": null,
      "outputs": []
    }
  ]
}